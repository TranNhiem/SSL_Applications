{
 "cells": [
  {
   "cell_type": "markdown",
   "metadata": {},
   "source": [
    "### Import Requirement"
   ]
  },
  {
   "cell_type": "code",
   "execution_count": 3,
   "metadata": {},
   "outputs": [],
   "source": [
    "import torch \n",
    "from cross_attention import AttentionStore, show_cross_attention, run_and_display\n",
    "import utils\n",
    "device = torch.device(\"cuda\") if torch.cuda.is_available() else torch.device(\"cpu\")\n",
    "from config import read_cfg\n",
    "flag = read_cfg()\n",
    "FLAGS = flag.FLAGS\n",
    "\n",
    "#[\"CompVis/stable-diffusion-v1-4\",\"prompthero/openjourney\",\"runwayml/stable-diffusion-v1-5\" ]\n",
    "FLAGS.sd_model=\"runwayml/stable-diffusion-v1-5\""
   ]
  },
  {
   "cell_type": "code",
   "execution_count": 4,
   "metadata": {},
   "outputs": [
    {
     "ename": "TypeError",
     "evalue": "PNDMScheduler.set_timesteps() got an unexpected keyword argument 'offset'",
     "output_type": "error",
     "traceback": [
      "\u001b[0;31m---------------------------------------------------------------------------\u001b[0m",
      "\u001b[0;31mTypeError\u001b[0m                                 Traceback (most recent call last)",
      "Cell \u001b[0;32mIn [4], line 6\u001b[0m\n\u001b[1;32m      3\u001b[0m controller \u001b[39m=\u001b[39m AttentionStore()\n\u001b[1;32m      4\u001b[0m \u001b[39m# g_cpu= g_cpu.to(device)'\u001b[39;00m\n\u001b[1;32m      5\u001b[0m \u001b[39m#prompts=prompts.to(device)\u001b[39;00m\n\u001b[0;32m----> 6\u001b[0m image, x_t \u001b[39m=\u001b[39m run_and_display(prompts, controller, latent\u001b[39m=\u001b[39;49m\u001b[39mNone\u001b[39;49;00m, run_baseline\u001b[39m=\u001b[39;49m\u001b[39mFalse\u001b[39;49;00m, generator\u001b[39m=\u001b[39;49mg_cpu)\n\u001b[1;32m      7\u001b[0m show_cross_attention(controller, res\u001b[39m=\u001b[39m\u001b[39m16\u001b[39m, from_where\u001b[39m=\u001b[39m(\u001b[39m\"\u001b[39m\u001b[39mup\u001b[39m\u001b[39m\"\u001b[39m, \u001b[39m\"\u001b[39m\u001b[39mdown\u001b[39m\u001b[39m\"\u001b[39m))\n",
      "File \u001b[0;32m~/BLIRL/SSL_Applications/prompt_to_prompt_sd/cross_attention.py:345\u001b[0m, in \u001b[0;36mrun_and_display\u001b[0;34m(prompts, controller, latent, run_baseline, generator)\u001b[0m\n\u001b[1;32m    343\u001b[0m     images, latent \u001b[39m=\u001b[39m run_and_display(prompts, EmptyControl(), latent\u001b[39m=\u001b[39mlatent, run_baseline\u001b[39m=\u001b[39m\u001b[39mFalse\u001b[39;00m, generator\u001b[39m=\u001b[39mgenerator)\n\u001b[1;32m    344\u001b[0m     \u001b[39mprint\u001b[39m(\u001b[39m\"\u001b[39m\u001b[39mwith prompt-to-prompt\u001b[39m\u001b[39m\"\u001b[39m)\n\u001b[0;32m--> 345\u001b[0m images, x_t \u001b[39m=\u001b[39m utils\u001b[39m.\u001b[39;49mtext2image_ldm_stable(ldm_stable, controller, prompts, latent\u001b[39m=\u001b[39;49mlatent, num_inference_steps\u001b[39m=\u001b[39;49mNUM_DIFFUSION_STEPS, guidance_scale\u001b[39m=\u001b[39;49mGUIDANCE_SCALE, generator\u001b[39m=\u001b[39;49mgenerator, low_resource\u001b[39m=\u001b[39;49mLOW_RESOURCE)\n\u001b[1;32m    346\u001b[0m images\u001b[39m.\u001b[39mto(device)\n\u001b[1;32m    347\u001b[0m x_t \u001b[39m=\u001b[39m x_t\u001b[39m.\u001b[39mto(device)\n",
      "File \u001b[0;32m/anaconda/envs/solo_learn/lib/python3.10/site-packages/torch/autograd/grad_mode.py:27\u001b[0m, in \u001b[0;36m_DecoratorContextManager.__call__.<locals>.decorate_context\u001b[0;34m(*args, **kwargs)\u001b[0m\n\u001b[1;32m     24\u001b[0m \u001b[39m@functools\u001b[39m\u001b[39m.\u001b[39mwraps(func)\n\u001b[1;32m     25\u001b[0m \u001b[39mdef\u001b[39;00m \u001b[39mdecorate_context\u001b[39m(\u001b[39m*\u001b[39margs, \u001b[39m*\u001b[39m\u001b[39m*\u001b[39mkwargs):\n\u001b[1;32m     26\u001b[0m     \u001b[39mwith\u001b[39;00m \u001b[39mself\u001b[39m\u001b[39m.\u001b[39mclone():\n\u001b[0;32m---> 27\u001b[0m         \u001b[39mreturn\u001b[39;00m func(\u001b[39m*\u001b[39;49margs, \u001b[39m*\u001b[39;49m\u001b[39m*\u001b[39;49mkwargs)\n",
      "File \u001b[0;32m~/BLIRL/SSL_Applications/prompt_to_prompt_sd/utils.py:152\u001b[0m, in \u001b[0;36mtext2image_ldm_stable\u001b[0;34m(model, controller, prompt, num_inference_steps, guidance_scale, generator, latent, low_resource)\u001b[0m\n\u001b[1;32m    150\u001b[0m \u001b[39m# set timesteps\u001b[39;00m\n\u001b[1;32m    151\u001b[0m extra_set_kwargs \u001b[39m=\u001b[39m {\u001b[39m\"\u001b[39m\u001b[39moffset\u001b[39m\u001b[39m\"\u001b[39m: \u001b[39m1\u001b[39m}\n\u001b[0;32m--> 152\u001b[0m model\u001b[39m.\u001b[39;49mscheduler\u001b[39m.\u001b[39;49mset_timesteps(num_inference_steps, \u001b[39m*\u001b[39;49m\u001b[39m*\u001b[39;49mextra_set_kwargs)\n\u001b[1;32m    153\u001b[0m \u001b[39mfor\u001b[39;00m t \u001b[39min\u001b[39;00m tqdm(model\u001b[39m.\u001b[39mscheduler\u001b[39m.\u001b[39mtimesteps):\n\u001b[1;32m    154\u001b[0m     latents \u001b[39m=\u001b[39m diffusion_step(model, controller, latents, context, t, guidance_scale, low_resource)\n",
      "\u001b[0;31mTypeError\u001b[0m: PNDMScheduler.set_timesteps() got an unexpected keyword argument 'offset'"
     ]
    }
   ],
   "source": [
    "prompts= [\"A painting of a squirrel eating a burger\"]\n",
    "g_cpu = torch.Generator().manual_seed(8888)\n",
    "controller = AttentionStore()\n",
    "# g_cpu= g_cpu.to(device)'\n",
    "#prompts=prompts.to(device)\n",
    "image, x_t = run_and_display(prompts, controller, latent=None, run_baseline=False, generator=g_cpu)\n",
    "show_cross_attention(controller, res=16, from_where=(\"up\", \"down\"))"
   ]
  },
  {
   "cell_type": "code",
   "execution_count": null,
   "metadata": {},
   "outputs": [],
   "source": []
  }
 ],
 "metadata": {
  "kernelspec": {
   "display_name": "Python 3.10.4 ('solo_learn')",
   "language": "python",
   "name": "python3"
  },
  "language_info": {
   "codemirror_mode": {
    "name": "ipython",
    "version": 3
   },
   "file_extension": ".py",
   "mimetype": "text/x-python",
   "name": "python",
   "nbconvert_exporter": "python",
   "pygments_lexer": "ipython3",
   "version": "3.10.4"
  },
  "orig_nbformat": 4,
  "vscode": {
   "interpreter": {
    "hash": "4861754099b04603a07ae6a1f0ffa02f359ea3421563f98705238b2fb107dd65"
   }
  }
 },
 "nbformat": 4,
 "nbformat_minor": 2
}
